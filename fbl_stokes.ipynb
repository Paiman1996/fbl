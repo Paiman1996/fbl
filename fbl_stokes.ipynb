{
 "cells": [
  {
   "cell_type": "code",
   "execution_count": 4,
   "metadata": {},
   "outputs": [],
   "source": [
    "from dolfin import *\n",
    "#import matplotlib.pyplot as plt\n",
    "#%matplotlib inline"
   ]
  },
  {
   "cell_type": "code",
   "execution_count": 5,
   "metadata": {},
   "outputs": [],
   "source": [
    "# Test for PETSc or Tpetra\n",
    "if not has_linear_algebra_backend(\"PETSc\") and not has_linear_algebra_backend(\"Tpetra\"):\n",
    "    info(\"DOLFIN has not been configured with Trilinos or PETSc. Exiting.\")\n",
    "    exit()\n",
    "\n",
    "if not has_krylov_solver_preconditioner(\"amg\"):\n",
    "    info(\"Sorry, this demo is only available when DOLFIN is compiled with AMG \"\n",
    "\t \"preconditioner, Hypre or ML.\")\n",
    "    exit()\n",
    "\n",
    "if has_krylov_solver_method(\"minres\"):\n",
    "    krylov_method = \"minres\"\n",
    "elif has_krylov_solver_method(\"tfqmr\"):\n",
    "    krylov_method = \"tfqmr\"\n",
    "else:\n",
    "    info(\"Default linear algebra backend was not compiled with MINRES or TFQMR \"\n",
    "         \"Krylov subspace method. Terminating.\")\n",
    "    exit()"
   ]
  },
  {
   "cell_type": "code",
   "execution_count": 6,
   "metadata": {},
   "outputs": [],
   "source": [
    "# Load mesh\n",
    "\n",
    "mesh = Mesh()\n",
    "with XDMFFile(\"mesh_fbl_out8.xdmf\") as infile:\n",
    "    infile.read(mesh)\n",
    "\n",
    "#plot(mesh, title=\"Mesh\")\n",
    "#plt.show()"
   ]
  },
  {
   "cell_type": "code",
   "execution_count": 7,
   "metadata": {},
   "outputs": [],
   "source": [
    "# Define function spaces\n",
    "V = VectorElement(\"Lagrange\", mesh.ufl_cell(), 2)\n",
    "P = FiniteElement(\"Lagrange\", mesh.ufl_cell(), 1)\n",
    "VP = MixedElement([V, P])\n",
    "W = FunctionSpace(mesh , VP)"
   ]
  },
  {
   "cell_type": "code",
   "execution_count": 8,
   "metadata": {},
   "outputs": [],
   "source": [
    "# Boundaries\n",
    "def right(x, on_boundary): return x[0] > (1.0 - DOLFIN_EPS)\n",
    "def left(x, on_boundary): return x[0] < DOLFIN_EPS\n",
    "def wall(x, on_boundary):\n",
    "    return on_boundary and not bool(near(x[0], 0.0) or near(x[0], 1.0))\n"
   ]
  },
  {
   "cell_type": "code",
   "execution_count": 9,
   "metadata": {},
   "outputs": [],
   "source": [
    "# No-slip boundary condition for velocity\n",
    "noslip = Constant((0.0, 0.0, 0.0))\n",
    "bc0 = DirichletBC(W.sub(0), noslip, wall)\n",
    "bc_right = DirichletBC(W.sub(1), Constant(0.), right)\n",
    "bc_left = DirichletBC(W.sub(1), Constant(0.), left)\n",
    "\n",
    "# Collect boundary conditions\n",
    "bcs = [bc0,bc_right,bc_left]"
   ]
  },
  {
   "cell_type": "code",
   "execution_count": 10,
   "metadata": {},
   "outputs": [],
   "source": [
    "# Define variational problem\n",
    "(u, p) = TrialFunctions(W)\n",
    "(v, q) = TestFunctions(W)\n",
    "f = Constant((1.0, 0.0, 0.0))\n",
    "a = inner(grad(u), grad(v))*dx + div(v)*p*dx + q*div(u)*dx\n",
    "L = inner(f, v)*dx"
   ]
  },
  {
   "cell_type": "code",
   "execution_count": 11,
   "metadata": {},
   "outputs": [],
   "source": [
    "# Form for use in constructing preconditioner matrix\n",
    "b = inner(grad(u), grad(v))*dx + p*q*dx\n",
    "\n",
    "# Assemble system\n",
    "A, bb = assemble_system(a, L, bcs)\n",
    "\n",
    "# Assemble preconditioner system\n",
    "P, btmp = assemble_system(b, L, bcs)"
   ]
  },
  {
   "cell_type": "code",
   "execution_count": 12,
   "metadata": {},
   "outputs": [],
   "source": [
    "# Create Krylov solver and AMG preconditioner\n",
    "solver = KrylovSolver(krylov_method, \"amg\")\n",
    "solver.parameters[\"monitor_convergence\"] = True"
   ]
  },
  {
   "cell_type": "code",
   "execution_count": 13,
   "metadata": {},
   "outputs": [],
   "source": [
    "# Associate operator (A) and preconditioner matrix (P)\n",
    "solver.set_operators(A, P)\n"
   ]
  },
  {
   "cell_type": "code",
   "execution_count": 14,
   "metadata": {},
   "outputs": [
    {
     "data": {
      "text/plain": [
       "844"
      ]
     },
     "execution_count": 14,
     "metadata": {},
     "output_type": "execute_result"
    }
   ],
   "source": [
    "# Solve\n",
    "U = Function(W)\n",
    "solver.solve(U.vector(), bb)"
   ]
  },
  {
   "cell_type": "code",
   "execution_count": 15,
   "metadata": {},
   "outputs": [],
   "source": [
    "# Get sub-functions\n",
    "u, p = U.split()\n"
   ]
  },
  {
   "cell_type": "code",
   "execution_count": 16,
   "metadata": {},
   "outputs": [],
   "source": [
    "ufile_pvd = File(\"velocity.pvd\")\n",
    "ufile_pvd << u\n",
    "pfile_pvd = File(\"pressure.pvd\")\n",
    "pfile_pvd << p"
   ]
  },
  {
   "cell_type": "code",
   "execution_count": null,
   "metadata": {},
   "outputs": [],
   "source": []
  }
 ],
 "metadata": {
  "kernelspec": {
   "display_name": "Python 3",
   "language": "python",
   "name": "python3"
  },
  "language_info": {
   "codemirror_mode": {
    "name": "ipython",
    "version": 3
   },
   "file_extension": ".py",
   "mimetype": "text/x-python",
   "name": "python",
   "nbconvert_exporter": "python",
   "pygments_lexer": "ipython3",
   "version": "3.8.10"
  }
 },
 "nbformat": 4,
 "nbformat_minor": 4
}
